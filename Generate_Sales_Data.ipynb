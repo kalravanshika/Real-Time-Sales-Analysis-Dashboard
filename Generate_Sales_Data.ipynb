{
 "cells": [
  {
   "cell_type": "markdown",
   "id": "762a4aff-f288-4a98-a210-c88698df11f4",
   "metadata": {},
   "source": [
    "# Simulating real-time sales data and continuously append it to a CSV file."
   ]
  },
  {
   "cell_type": "markdown",
   "id": "1271893a-e818-491e-b9ef-811be970ba09",
   "metadata": {},
   "source": [
    "## 1. Importing Required Libraries \n",
    "\n",
    "random: Used to generate random values (e.g., customer IDs, product names, etc.).\n",
    "\n",
    "pandas: Used for data manipulation (though not directly used in this script, it’s often used for handling CSV files).\n",
    "\n",
    "datetime: Used to generate timestamps for sales transactions.\n",
    "\n",
    "time: Used to introduce delays between generating records (to simulate real-time data)."
   ]
  },
  {
   "cell_type": "code",
   "execution_count": 15,
   "id": "00bdb971-0a51-4b70-aa09-021bd0591176",
   "metadata": {},
   "outputs": [],
   "source": [
    "import random                                 \n",
    "import pandas as pd\n",
    "import datetime\n",
    "import time"
   ]
  },
  {
   "cell_type": "markdown",
   "id": "671dca3e-9730-418a-b991-a929a67f1cc0",
   "metadata": {},
   "source": [
    "## 2. Defining Values for Fields\n",
    "\n",
    "These lists define the possible values for various fields in the sales data:\n",
    "\n",
    "products: Types of products sold.\n",
    "\n",
    "categories: Categories of products.\n",
    "\n",
    "brands: Brands of products.\n",
    "\n",
    "regions: Regions where sales occur.\n",
    "\n",
    "payment_methods: Payment methods used by customers.\n",
    "\n",
    "genders: Genders of customers."
   ]
  },
  {
   "cell_type": "code",
   "execution_count": 16,
   "id": "79d88f5f-db50-40de-b962-eb7728bc3044",
   "metadata": {},
   "outputs": [],
   "source": [
    "products = ['Smartphone', 'Laptop', 'Headphones', 'Smartwatch', 'TV', 'Refrigerator', 'Washing Machine']\n",
    "categories = ['Electronics', 'Home Appliances', 'Wearables']\n",
    "brands = ['Samsung', 'Apple', 'Xiaomi', 'LG', 'Sony', 'Boat', 'OnePlus']\n",
    "regions = ['North India', 'South India', 'East India', 'West India']\n",
    "payment_methods = ['UPI', 'Credit/Debit Card', 'Cash', 'Net Banking']\n",
    "genders = ['Male', 'Female']"
   ]
  },
  {
   "cell_type": "markdown",
   "id": "cff3ad17-4ed7-4fd8-912b-92f885951c63",
   "metadata": {},
   "source": [
    "## 3. Defining Price Ranges for Products"
   ]
  },
  {
   "cell_type": "code",
   "execution_count": 17,
   "id": "6a6c110e-0e40-4e1e-a77f-7bc4900e140f",
   "metadata": {},
   "outputs": [],
   "source": [
    "product_prices = {\n",
    "    'Smartphone': (8000, 150000),  # ₹8,000 to ₹1,50,000\n",
    "    'Laptop': (25000, 200000),     # ₹25,000 to ₹2,00,000\n",
    "    'Headphones': (500, 30000),    # ₹500 to ₹30,000\n",
    "    'Smartwatch': (2000, 50000),   # ₹2,000 to ₹50,000\n",
    "    'TV': (10000, 300000),         # ₹10,000 to ₹3,00,000\n",
    "    'Refrigerator': (15000, 100000),  # ₹15,000 to ₹1,00,000\n",
    "    'Washing Machine': (12000, 80000)  # ₹12,000 to ₹80,000\n",
    "}"
   ]
  },
  {
   "cell_type": "markdown",
   "id": "6847e81d-3fc9-4c74-9454-87fb1bb36902",
   "metadata": {},
   "source": [
    "## 4. Function to Generate a Single Sales Record"
   ]
  },
  {
   "cell_type": "markdown",
   "id": "b4cf4b86-56e6-49ae-b4f7-1e9d8904187e",
   "metadata": {},
   "source": [
    "This function generates a single sales record with the following fields:\n",
    "\n",
    "customer_id: A random 4-digit number.\n",
    "\n",
    "customer_name: A string like Customer_1234.\n",
    "\n",
    "customer_age: A random age between 18 and 60.\n",
    "\n",
    "customer_gender: Randomly selected from genders.\n",
    "\n",
    "customer_location: Randomly selected from regions.\n",
    "\n",
    "product_name: Randomly selected from products.\n",
    "\n",
    "product_id: A random number between 1 and 100.\n",
    "\n",
    "product_category: Randomly selected from categories.\n",
    "\n",
    "product_brand: Randomly selected from brands.\n",
    "\n",
    "product_rating: A random rating between 3.5 and 5.0.\n",
    "\n",
    "price: Randomly generated within the product’s price range.\n",
    "\n",
    "transaction_id: A random 6-digit number.\n",
    "\n",
    "quantity: A random number between 1 and 5.\n",
    "\n",
    "discount_applied: A random discount between 0% and 30%.\n",
    "\n",
    "total_amount: Calculated as quantity * price * (1 - discount_applied).\n",
    "\n",
    "payment_method: Randomly selected from payment_methods.\n",
    "\n",
    "order_date: Current date in YYYY-MM-DD format.\n",
    "\n",
    "order_time: Current time in HH:MM:SS format.\n",
    "\n",
    "delivery_time: A random date and time between 1 and 7 days from now.\n",
    "\n"
   ]
  },
  {
   "cell_type": "code",
   "execution_count": 18,
   "id": "3eb0806f-1de9-4d1d-9e8f-e52331cc50fb",
   "metadata": {},
   "outputs": [],
   "source": [
    "def generate_sales_record():\n",
    "    customer_id = random.randint(1000, 9999)\n",
    "    customer_name = f\"Customer_{customer_id}\"\n",
    "    customer_age = random.randint(18, 60)\n",
    "    customer_gender = random.choice(genders)\n",
    "    customer_location = random.choice(regions)\n",
    "    \n",
    "    product_name = random.choice(products)\n",
    "    product_id = random.randint(1, 100)\n",
    "    product_category = random.choice(categories)\n",
    "    product_brand = random.choice(brands)\n",
    "    product_rating = round(random.uniform(3.5, 5.0), 1)\n",
    "    \n",
    "    # Get price range for the selected product\n",
    "    min_price, max_price = product_prices[product_name]\n",
    "    price = round(random.uniform(min_price, max_price), 2)\n",
    "    \n",
    "    transaction_id = random.randint(100000, 999999)\n",
    "    quantity = random.randint(1, 5)\n",
    "    discount_applied = round(random.uniform(0, 0.3), 2)  # 0% to 30% discount\n",
    "    total_amount = round(quantity * price * (1 - discount_applied), 2)\n",
    "    payment_method = random.choice(payment_methods)\n",
    "    \n",
    "    order_date = datetime.datetime.now().strftime('%Y-%m-%d')\n",
    "    order_time = datetime.datetime.now().strftime('%H:%M:%S')\n",
    "    delivery_time = (datetime.datetime.now() + datetime.timedelta(days=random.randint(1, 7))).strftime('%Y-%m-%d %H:%M:%S')\n",
    "    \n",
    "    return [\n",
    "        customer_id, customer_name, customer_age, customer_gender, customer_location,\n",
    "        product_id, product_name, product_category, product_brand, product_rating,\n",
    "        transaction_id, quantity, price, discount_applied, total_amount, payment_method,\n",
    "        order_date, order_time, delivery_time\n",
    "    ]"
   ]
  },
  {
   "cell_type": "markdown",
   "id": "10b4b237-45a4-4948-bf29-dcfa0a49b0c3",
   "metadata": {},
   "source": [
    "## 5. Function to Continuously Generate and Append Data\n"
   ]
  },
  {
   "cell_type": "markdown",
   "id": "affc7c52-e573-4a99-8b9c-12aced90b1a3",
   "metadata": {},
   "source": [
    "This function continuously generates sales records and appends them to a CSV file.\n",
    "\n",
    "Parameters:\n",
    "\n",
    "file_path: Path to the CSV file where data will be saved.\n",
    "\n",
    "interval: Time delay (in seconds) between generating records (default is 5 seconds).\n",
    "\n",
    "Steps:\n",
    "\n",
    "Define the column names for the CSV file.\n",
    "\n",
    "Enter an infinite loop (while True).\n",
    "\n",
    "Generate a new sales record using generate_sales_record().\n",
    "\n",
    "Append the record to the CSV file in comma-separated format.\n",
    "\n",
    "Print the new record to the console.\n",
    "\n",
    "Wait for the specified interval before generating the next record."
   ]
  },
  {
   "cell_type": "code",
   "execution_count": 19,
   "id": "68529e74-5322-46c0-bcfa-4734d1031d69",
   "metadata": {},
   "outputs": [],
   "source": [
    "def generate_real_time_data(file_path, interval=5):\n",
    "    columns = [\n",
    "        'customer_id', 'customer_name', 'customer_age', 'customer_gender', 'customer_location',\n",
    "        'product_id', 'product_name', 'product_category', 'product_brand', 'product_rating',\n",
    "        'transaction_id', 'quantity', 'price', 'discount_applied', 'total_amount', 'payment_method',\n",
    "        'order_date', 'order_time', 'delivery_time'\n",
    "    ]\n",
    "    \n",
    "    # Clear the file and write the column titles at the beginning of every run\n",
    "    with open(file_path, 'w') as file:\n",
    "        file.write(','.join(columns) + '\\n')\n",
    "    \n",
    "    while True:\n",
    "        # Generate a new sales record\n",
    "        new_record = generate_sales_record()\n",
    "        \n",
    "        # Append the record to the CSV file\n",
    "        with open(file_path, 'a') as file:\n",
    "            file.write(','.join(map(str, new_record)) + '\\n')\n",
    "        \n",
    "        print(f\"New record added: {new_record}\")\n",
    "        \n",
    "        # Wait for the specified interval before generating the next record\n",
    "        time.sleep(interval)"
   ]
  },
  {
   "cell_type": "markdown",
   "id": "477332c8-163f-41ca-b7e8-6bc69965a426",
   "metadata": {},
   "source": [
    "## 6. Starting the Real-Time Data Generation"
   ]
  },
  {
   "cell_type": "markdown",
   "id": "44559cf6-b017-4d92-860f-48a951c1d043",
   "metadata": {},
   "source": [
    "This line starts the real-time data generation process.\n",
    "\n",
    "sales_data_india.csv: The CSV file where data will be saved.\n",
    "\n",
    "interval=5: A new record will be added every 5 seconds."
   ]
  },
  {
   "cell_type": "code",
   "execution_count": null,
   "id": "126d886f-7f60-4188-bda9-cbc5dd8ebb7b",
   "metadata": {},
   "outputs": [
    {
     "name": "stdout",
     "output_type": "stream",
     "text": [
      "New record added: [8689, 'Customer_8689', 44, 'Male', 'East India', 71, 'Washing Machine', 'Electronics', 'Boat', 3.7, 127680, 3, 59414.47, 0.02, 174678.54, 'UPI', '2025-05-28', '11:59:46', '2025-06-04 11:59:46']\n",
      "New record added: [5121, 'Customer_5121', 36, 'Female', 'West India', 90, 'Laptop', 'Electronics', 'Xiaomi', 4.4, 938359, 5, 181076.99, 0.08, 832954.15, 'UPI', '2025-05-28', '11:59:51', '2025-06-03 11:59:51']\n",
      "New record added: [9584, 'Customer_9584', 60, 'Male', 'East India', 88, 'TV', 'Home Appliances', 'Sony', 5.0, 414082, 1, 216325.34, 0.14, 186039.79, 'Credit/Debit Card', '2025-05-28', '11:59:56', '2025-06-02 11:59:56']\n",
      "New record added: [3200, 'Customer_3200', 37, 'Male', 'North India', 40, 'Laptop', 'Wearables', 'OnePlus', 4.6, 217261, 5, 69128.87, 0.29, 245407.49, 'UPI', '2025-05-28', '12:00:01', '2025-06-02 12:00:01']\n",
      "New record added: [1240, 'Customer_1240', 21, 'Female', 'North India', 57, 'TV', 'Home Appliances', 'OnePlus', 4.8, 436950, 3, 52176.47, 0.15, 133050.0, 'Credit/Debit Card', '2025-05-28', '12:00:06', '2025-06-04 12:00:06']\n",
      "New record added: [4732, 'Customer_4732', 29, 'Male', 'North India', 22, 'Smartphone', 'Electronics', 'Samsung', 4.4, 379067, 5, 48604.08, 0.14, 208997.54, 'UPI', '2025-05-28', '12:00:11', '2025-05-30 12:00:11']\n",
      "New record added: [4754, 'Customer_4754', 44, 'Female', 'North India', 49, 'Refrigerator', 'Home Appliances', 'Apple', 3.6, 769066, 3, 32525.08, 0.24, 74157.18, 'Net Banking', '2025-05-28', '12:00:16', '2025-05-29 12:00:16']\n",
      "New record added: [2413, 'Customer_2413', 24, 'Male', 'South India', 37, 'Headphones', 'Home Appliances', 'Apple', 4.9, 532295, 2, 15219.84, 0.04, 29222.09, 'Net Banking', '2025-05-28', '12:00:21', '2025-06-04 12:00:21']\n",
      "New record added: [9890, 'Customer_9890', 33, 'Female', 'West India', 16, 'Smartphone', 'Electronics', 'Xiaomi', 4.3, 225648, 3, 131040.94, 0.15, 334154.4, 'Net Banking', '2025-05-28', '12:00:26', '2025-05-29 12:00:26']\n",
      "New record added: [7346, 'Customer_7346', 41, 'Female', 'West India', 25, 'Headphones', 'Electronics', 'Sony', 4.1, 694633, 5, 10194.89, 0.03, 49445.22, 'Credit/Debit Card', '2025-05-28', '12:00:31', '2025-05-29 12:00:31']\n"
     ]
    }
   ],
   "source": [
    "generate_real_time_data('sales_data_india.csv', interval=5)  # Add a new record every 5 seconds"
   ]
  },
  {
   "cell_type": "code",
   "execution_count": null,
   "id": "206d6649-46b0-4e10-909c-3a660aaae8e9",
   "metadata": {},
   "outputs": [],
   "source": []
  }
 ],
 "metadata": {
  "kernelspec": {
   "display_name": "Python 3",
   "language": "python",
   "name": "python3"
  },
  "language_info": {
   "codemirror_mode": {
    "name": "ipython",
    "version": 3
   },
   "file_extension": ".py",
   "mimetype": "text/x-python",
   "name": "python",
   "nbconvert_exporter": "python",
   "pygments_lexer": "ipython3",
   "version": "3.12.4"
  }
 },
 "nbformat": 4,
 "nbformat_minor": 5
}
